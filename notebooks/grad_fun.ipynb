{
 "metadata": {
  "language_info": {
   "codemirror_mode": {
    "name": "ipython",
    "version": 3
   },
   "file_extension": ".py",
   "mimetype": "text/x-python",
   "name": "python",
   "nbconvert_exporter": "python",
   "pygments_lexer": "ipython3",
   "version": "3.7.3-final"
  },
  "orig_nbformat": 2,
  "kernelspec": {
   "name": "python3",
   "display_name": "Python 3",
   "language": "python"
  }
 },
 "nbformat": 4,
 "nbformat_minor": 2,
 "cells": [
  {
   "cell_type": "code",
   "execution_count": null,
   "metadata": {},
   "outputs": [],
   "source": [
    "from discopy.quantum import *\n",
    "from discopy.drawing import draw\n",
    "import numpy as np\n",
    "import sympy as sy\n",
    "import itertools\n",
    "from matplotlib import pyplot as plt"
   ]
  },
  {
   "cell_type": "code",
   "execution_count": null,
   "metadata": {},
   "outputs": [],
   "source": [
    "def symbols_struct(prefix: str, shape):\n",
    "    sym_spec = '_'.join(f':{k}' for k in shape)\n",
    "    return np.reshape(sy.symbols(f'{prefix}_{sym_spec}'), shape)\n",
    "\n",
    "def array_subs(array, subs):\n",
    "    shape = array.shape if isinstance(array, np.ndarray) else len(array)\n",
    "\n",
    "    raise NotImplementedError\n",
    "\n",
    "def _prepare_vars(variables):\n",
    "    variables = np.asarray(variables, dtype=np.object).flatten()\n",
    "    variables = [sy.symbols(v) if isinstance(v, str) else v\\\n",
    "                 for v in variables]\n",
    "    return variables\n",
    "\n",
    "def jacobian(circ, variables):\n",
    "    from discopy.quantum import Circuit, Bra\n",
    "    assert circ.dom == qubit**0\n",
    "    variables = _prepare_vars(variables)\n",
    "    if isinstance(circ, Circuit):\n",
    "        d = len(circ.cod)\n",
    "        bras = np.mgrid.__getitem__([slice(0, 2)]*d).reshape((d, -1)).T\n",
    "        dvs = [(circ >> Bra(*bra)).grad(v) for bra, v in itertools.product(bras, variables)]\n",
    "    else:\n",
    "        raise NotImplementedError\n",
    "    dvs1 = np.empty(len(dvs), dtype=np.object)\n",
    "    dvs1[:] = dvs\n",
    "    return np.reshape(dvs1, (len(bras), len(variables)))\n",
    "\n",
    "def grad(circ, variables):\n",
    "    variables = _prepare_vars(variables)\n",
    "    return [circ.grad(v) for v in variables]\n",
    "\n",
    "def hessian(circ, variables):\n",
    "    variables = _prepare_vars(variables)\n",
    "    from discopy.quantum import qubit\n",
    "    from discopy.tensor import Dim\n",
    "    assert circ.cod in (qubit**0, Dim(1))\n",
    "    dvs = [c.grad(v) for c, v in itertools.product(grad(circ, variables), variables)]\n",
    "    dvs1 = np.empty(len(dvs), dtype=np.object)\n",
    "    dvs1[:] = dvs\n",
    "    return np.reshape(dvs1, (len(variables),)*2)"
   ]
  },
  {
   "cell_type": "code",
   "execution_count": null,
   "metadata": {},
   "outputs": [],
   "source": [
    "params = symbols_struct('t', (2, 2))\n",
    "c = Ket(0, 0) >> real_amp_ansatz(params, entanglement='linear')\n",
    "draw(c)"
   ]
  },
  {
   "cell_type": "code",
   "execution_count": null,
   "metadata": {},
   "outputs": [],
   "source": [
    "jacobian(c, params).shape"
   ]
  },
  {
   "cell_type": "code",
   "execution_count": null,
   "metadata": {},
   "outputs": [],
   "source": [
    "hessian(c >> Bra(0, 0), params).shape"
   ]
  },
  {
   "cell_type": "code",
   "execution_count": null,
   "metadata": {},
   "outputs": [],
   "source": [
    "from sympy.abc import alpha, beta\n",
    "circ = Ket(0, 0) >> (Ry(alpha) @ Ry(beta)) >> CX\n",
    "jacobian(circ, [alpha, beta]).shape"
   ]
  }
 ]
}